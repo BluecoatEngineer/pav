{
 "cells": [
  {
   "cell_type": "code",
   "execution_count": 26,
   "metadata": {
    "collapsed": false
   },
   "outputs": [
    {
     "name": "stdout",
     "output_type": "stream",
     "text": [
      "8 digital channels @ 1.000000e+08 samples/s => 8.00e+08 bit/s\n",
      "USB payload @ 95.37 MByte/s\n",
      "16 digital channels @ 1.000000e+08 samples/s => 1.60e+09 bit/s\n",
      "USB payload @ 190.73 MByte/s\n",
      "1 analog channels @ 5.000000e+07 samples/s => 4.00e+08 bit/s\n",
      "Raw Analog Capture @ 4.00e+08 bit/s\n",
      "USB payload @ 47.68 MByte/s\n",
      "16 analog channels @ 6.250000e+06 samples/s => 8.00e+08 bit/s\n",
      "Raw Analog Capture @ 8.00e+08 bit/s\n",
      "USB payload @ 95.37 MByte/s\n",
      "1 digital channels @ 5.000000e+08 samples/s => 5.00e+08 bit/s\n",
      "USB payload @ 476.84 MByte/s\n"
     ]
    }
   ],
   "source": [
    "from math import ceil\n",
    "\n",
    "def estimate_digcap_raw_bitrate(channels, capture_freq):\n",
    "    bitrate = capture_freq * channels\n",
    "    return bitrate\n",
    "\n",
    "def estimate_digcap_usb_rate(channels, capture_freq):\n",
    "    \"\"\"Returns an payload estimate for a given number of digital\n",
    "    channels at a capture rate.  This assumes packing multiple\n",
    "    channels into a single bit which the host will expand later.\"\"\"\n",
    "    max_channels_per_byte = 8\n",
    "    sample_width = ceil(channels / max_channels_per_byte) * 8 \n",
    "    bitrate = capture_freq * sample_width\n",
    "    return (bitrate / 8)\n",
    "\n",
    "def estimate_analogcap_raw_bitrate(channels, adc_res, capture_freq):\n",
    "    bitrate = capture_freq * adc_res * channels\n",
    "    return bitrate\n",
    "\n",
    "def print_digital_rate_estimates(channels, capture_freq):\n",
    "    digital_rate = estimate_digcap_raw_bitrate(channels, capture_freq)\n",
    "    usb_rate = estimate_digcap_usb_rate(channels, capture_freq)\n",
    "    \n",
    "    print(\"{:d} digital channels \".format(channels) +\n",
    "          \"@ {:e} samples/s \".format(capture_freq) +\n",
    "          \"=> {:.02e} bit/s\".format(digital_rate))\n",
    "    print(\"USB payload @ {:.02f} MByte/s\".format(usb_rate/(1024 * 1024)))\n",
    "    \n",
    "def print_analog_rate_estimates(channels, capture_freq):\n",
    "    analog_rate = estimate_analogcap_raw_bitrate(channels, 8, capture_freq)\n",
    "    print(\"{:d} analog channels \".format(channels) +\n",
    "      \"@ {:e} samples/s \".format(capture_freq) +\n",
    "      \"=> {:.02e} bit/s\".format(analog_rate))\n",
    "    print(\"Raw Analog Capture @ {:.02e} bit/s\".format(analog_rate))\n",
    "    print(\"USB payload @ {:.02f} MByte/s\".format(analog_rate/(1024 * 1024 * 8)))\n",
    "    \n",
    "print_digital_rate_estimates(8, 100e6)\n",
    "print_digital_rate_estimates(16, 100e6)\n",
    "print_analog_rate_estimates(1, 50e6)\n",
    "\n",
    "print_analog_rate_estimates(16, 6.25e6)\n",
    "print_digital_rate_estimates(1, 500e6)\n",
    "\n",
    "\n"
   ]
  },
  {
   "cell_type": "code",
   "execution_count": null,
   "metadata": {
    "collapsed": true
   },
   "outputs": [],
   "source": []
  },
  {
   "cell_type": "code",
   "execution_count": null,
   "metadata": {
    "collapsed": true
   },
   "outputs": [],
   "source": []
  }
 ],
 "metadata": {
  "anaconda-cloud": {},
  "kernelspec": {
   "display_name": "Python [conda env:pav]",
   "language": "python",
   "name": "conda-env-pav-py"
  },
  "language_info": {
   "codemirror_mode": {
    "name": "ipython",
    "version": 3
   },
   "file_extension": ".py",
   "mimetype": "text/x-python",
   "name": "python",
   "nbconvert_exporter": "python",
   "pygments_lexer": "ipython3",
   "version": "3.5.2"
  }
 },
 "nbformat": 4,
 "nbformat_minor": 2
}
